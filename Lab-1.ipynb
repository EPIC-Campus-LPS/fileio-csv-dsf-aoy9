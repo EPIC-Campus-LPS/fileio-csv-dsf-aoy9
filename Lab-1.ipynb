{
 "cells": [
  {
   "cell_type": "markdown",
   "metadata": {},
   "source": [
    "Letter Frequency"
   ]
  },
  {
   "cell_type": "code",
   "execution_count": 22,
   "metadata": {},
   "outputs": [
    {
     "name": "stdout",
     "output_type": "stream",
     "text": [
      "{'a': 32361, 'b': 6443, 'c': 11081, 'd': 18291, 'e': 49742, 'f': 8429, 'g': 6609, 'h': 23257, 'i': 28764, 'j': 443, 'k': 3156, 'l': 15849, 'm': 9910, 'n': 27407, 'o': 30605, 'p': 7575, 'q': 607, 'r': 21829, 's': 24270, 't': 38277, 'u': 11976, 'v': 3580, 'w': 9059, 'x': 762, 'y': 8287, 'z': 194}\n"
     ]
    }
   ],
   "source": [
    "import string\n",
    "alpha = dict.fromkeys(string.ascii_lowercase, 0) #creates alpha as a dictionary with all 26 letters as keys\n",
    "with open(\"Book1.txt\", \"r\") as book: #pulls Book1.txt as book with read\n",
    "    lines = book.readlines() #reads through the lines of Book1.txt\n",
    "\n",
    "for line in lines: #scans through all the lines\n",
    "    line = line.lower() #since alpha is a dictionary with all lower case letters, .lower() makes comparison accurate for uppercase letters\n",
    "    for i in range(len(line)): #scans through every character on the current line to compare to the alpha dictionary\n",
    "        if line[i] in alpha:\n",
    "            alpha[line[i]] += 1\n",
    "print(alpha) #prints the resulting letter count of the book"
   ]
  },
  {
   "cell_type": "markdown",
   "metadata": {},
   "source": [
    "Log Files"
   ]
  },
  {
   "cell_type": "code",
   "execution_count": 7,
   "metadata": {},
   "outputs": [
    {
     "name": "stdout",
     "output_type": "stream",
     "text": [
      "[('http://www.sample.info/?dock=fork', 8), ('https://www.sample.com/?party=pig', 3), ('http://www.sample.com/range?tiger=dirt', 3)]\n",
      "71\n"
     ]
    }
   ],
   "source": [
    "ip = {} #creates a dictionary for recording all ip adresses\n",
    "website = {} #creates a dictionary for recording all websites\n",
    "unique = 0 #the variable recording the count of unique websites\n",
    "n = 3 #since we only need to print the top 3 visited websites this will be the limit cap for the top websites printed into the report\n",
    "with open(\"server_log.txt\") as file: #opens the contents of server_log.txt\n",
    "    next(file) #skips the first line as it is a header\n",
    "    for line in file: #scans through every line within the server_log.txt\n",
    "        row = line.rstrip().split(\"-\") #the line is split into a list separating at \"-\"\n",
    "        if row[0] in ip and row[2] in website: #if the ip and website both are already entries within the created dictionaries\n",
    "            ip[row[0]] += 1 #adds 1 to the count of the specific ip key \n",
    "            website[row[2]] += 1 #adds 1 to the count of the specific website key\n",
    "        else: #if the ip and website are not entries within both dictionaries\n",
    "            unique += 1 #the count of total unique websites visited increases by 1\n",
    "            ip[row[0]] = 1 #creates a new key for the unique ip adress\n",
    "            website[row[2]] = 1 # creates a new key for the unique website adress\n",
    "website1 = sorted(website.items(), key=lambda x:x[1], reverse=True) #sorts the entire website dictionary by descending value\n",
    "website1 = website1[0:n] #limits it to the top 3 values\n",
    "print(website1) #prints the top 3 websites for verification\n",
    "print(unique) #prints the total count of unique websites visited for verficiation\n",
    "if input(\"Would You Like to Print a Report - Enter [yes] or [y] to Continue\").lower() == (\"yes\") or (\"y\"): #asks for user for permission to enter values into the server log\n",
    "    with open(\"server_summary.txt\", \"a\") as file: #opens server_summary.txt for editing\n",
    "\t    file.write(f\"The Top 3 Most Visited Sites Were {website1}\\nThe Total Number of Unique Sites Visited Was {unique}\\n\") #gives context to the information\n",
    "\n"
   ]
  },
  {
   "cell_type": "markdown",
   "metadata": {},
   "source": [
    "Receptify"
   ]
  },
  {
   "cell_type": "code",
   "execution_count": 4,
   "metadata": {},
   "outputs": [
    {
     "name": "stdout",
     "output_type": "stream",
     "text": [
      "╒══════════════════╤═══════╕\n",
      "│ Song Name        │   Amt │\n",
      "╞══════════════════╪═══════╡\n",
      "│ Super Shy        │    30 │\n",
      "├──────────────────┼───────┤\n",
      "│ Dance The Night  │    27 │\n",
      "├──────────────────┼───────┤\n",
      "│ I Wanna Be Yours │    25 │\n",
      "├──────────────────┼───────┤\n",
      "│ Rush             │    25 │\n",
      "├──────────────────┼───────┤\n",
      "│ LALA             │    23 │\n",
      "├──────────────────┼───────┤\n",
      "│ Another Love     │    21 │\n",
      "├──────────────────┼───────┤\n",
      "│ Blank Space      │    21 │\n",
      "├──────────────────┼───────┤\n",
      "│ Flowers          │    21 │\n",
      "├──────────────────┼───────┤\n",
      "│ WHERE SHE GOES   │    18 │\n",
      "├──────────────────┼───────┤\n",
      "│ Anti-Hero        │    16 │\n",
      "╘══════════════════╧═══════╛\n"
     ]
    }
   ],
   "source": [
    "import csv\n",
    "from tabulate import tabulate\n",
    "Top10 = {}\n",
    "unique = 0\n",
    "n = 10\n",
    "with open(\"spotify_data.csv\", \"r\") as csv_file:\n",
    "    reader = csv.reader(csv_file)\n",
    "\n",
    "    for row in reader:\n",
    "        if row[0] in Top10:\n",
    "            Top10[row[0]] += 1\n",
    "        else:\n",
    "            unique += 1 \n",
    "            Top10[row[0]] = 1\n",
    "\n",
    "Top10 = sorted(Top10.items(), key=lambda x:x[1], reverse=True)\n",
    "Top10 = Top10[0:n]\n",
    "table = Top10\n",
    "print(tabulate(table, headers=[\"Song Name\", \"Amt\"], tablefmt=\"fancy_grid\"))\n",
    "       "
   ]
  }
 ],
 "metadata": {
  "kernelspec": {
   "display_name": "Python 3",
   "language": "python",
   "name": "python3"
  },
  "language_info": {
   "codemirror_mode": {
    "name": "ipython",
    "version": 3
   },
   "file_extension": ".py",
   "mimetype": "text/x-python",
   "name": "python",
   "nbconvert_exporter": "python",
   "pygments_lexer": "ipython3",
   "version": "3.10.12"
  }
 },
 "nbformat": 4,
 "nbformat_minor": 2
}
